{
 "cells": [
  {
   "cell_type": "code",
   "execution_count": 2,
   "metadata": {
    "collapsed": false
   },
   "outputs": [],
   "source": [
    "# Install liblinear: sudo apt-get install python-liblinear\n",
    "# from liblinearutil import *\n",
    "import numpy as np"
   ]
  },
  {
   "cell_type": "code",
   "execution_count": 3,
   "metadata": {
    "collapsed": true
   },
   "outputs": [],
   "source": [
    "def read_problem(file_name):\n",
    "    y = []\n",
    "    x = []\n",
    "    feature_len = 22\n",
    "    for line in open(file_name):\n",
    "        tmp = line.split(' ',1)\n",
    "        y = y + [int(tmp[0])]\n",
    "        vec = np.zeros(feature_len)\n",
    "        for each in tmp[1].split():\n",
    "            index,val = each.split(':')\n",
    "            vec[int(index)-1] = float(val)\n",
    "        x.append(vec)\n",
    "    y = np.array(y)\n",
    "    x = np.array(x)\n",
    "    return y,x"
   ]
  },
  {
   "cell_type": "markdown",
   "metadata": {},
   "source": [
    "# Gradient ascent step for dual variables"
   ]
  },
  {
   "cell_type": "code",
   "execution_count": 8,
   "metadata": {
    "collapsed": false
   },
   "outputs": [],
   "source": [
    "def get_tp_tn(x,y,w):\n",
    "    h = x.dot(w)\n",
    "    ind = np.where(h>0)\n",
    "    y1 = -1*np.ones_like(y)\n",
    "    y1[ind] = 1\n",
    "    tp = sum(np.multiply(1+y,1+y1)/4)\n",
    "    tn = sum(np.multiply(1-y,1-y1)/4)\n",
    "    return tp,tn\n",
    "\n",
    "def get_projection(alpha,beta):\n",
    "    if alpha>0 and beta>0 and alpha*beta>=1.0/4:\n",
    "        return alpha,beta\n",
    "    a = 16\n",
    "    b = -16*beta\n",
    "    c = 0\n",
    "    d = 4*alpha\n",
    "    e = -1\n",
    "    D0 = c*c - 3*b*d + 12*a*e\n",
    "    D1 = 2*c*c*c-9*b*c*d+27*b*b*e+27*a*d*d-72*a*c*e\n",
    "    p = (8*a*c-3*b*b)/(8*a*a)\n",
    "    q = (b*b*b-4*a*b*c+8*a*a*d)\n",
    "    Q = np.power((D1+np.sqrt(D1*D1-4*D0*D0*D0))/2.0,1/3)\n",
    "    s = 0.5*np.sqrt(-2/3*p+1/(3*a)*(Q+D0/Q))\n",
    "    y1 = -float(b)/(4*a) - s + 0.5*np.sqrt(-4*s*s-2*p+q/s)\n",
    "    y2 = -float(b)/(4*a) - s - 0.5*np.sqrt(-4*s*s-2*p+q/s)\n",
    "    y3 = -float(b)/(4*a) + s + 0.5*np.sqrt(-4*s*s-2*p+q/s)\n",
    "    y4 = -float(b)/(4*a) + s - 0.5*np.sqrt(-4*s*s-2*p+q/s)\n",
    "    x1 = 1/(4*y1)\n",
    "    if x1>=1/4 and y1>=1/4:\n",
    "        return x1,y1\n",
    "    x2 = 1/(4*y2)\n",
    "    if x2>=1/4 and y2>=1/4:\n",
    "        return x2,y2\n",
    "    x3 = 1/(4*y3)\n",
    "    if x3>=1/4 and y3>=1/4:\n",
    "        return x3,y3\n",
    "    x4 = 1/(4*y4)\n",
    "    if x4>=1/4 and y4>=1/4:\n",
    "        return x4,y4\n",
    "    return 1,1\n",
    "\n",
    "def gradient_ascent(x,y,w,a,b,alpha=0.1):\n",
    "    n = x.shape[0]\n",
    "    n_pos = len([i for i in range(n) if y[i]==1])\n",
    "    n_neg = n-n_pos\n",
    "    ind_pos = [i for i in range(n) if y[i]>0]\n",
    "    ind_neg = [i for i in range(n) if y[i]<0]\n",
    "    tpr,tnr = get_tp_tn(x,y,w)\n",
    "    tpr /= float(n_pos)\n",
    "    tnr /= float(n_neg)\n",
    "    print('TPR =',tpr,'TNR =',tnr)\n",
    "    for i in range(n):\n",
    "        g = 0\n",
    "#         alpha = 1/float(i+1)\n",
    "        if i in ind_pos:\n",
    "            try:\n",
    "                tmp = 1 - (2*n_pos)/(a*n)*(x[i].dot(w))\n",
    "            except:\n",
    "                tmp = 0\n",
    "            if tmp > 0:\n",
    "                g += 1.0/n_pos\n",
    "            g = g-1.0/n_pos+0 # \\Delta*'(a,b)=0\n",
    "            a = a + alpha*g\n",
    "        else:\n",
    "            try:\n",
    "                tmp = 1 + (2*n_neg)/(b*n)*(x[i].dot(w))\n",
    "            except:\n",
    "                tmp = 0\n",
    "            if tmp > 0:\n",
    "                g += 1.0/n_neg\n",
    "            g = g-1.0/n_neg+0\n",
    "            b = b + alpha*g\n",
    "        # Projection to a,b \\in R+ \\intersect ab>1/4\n",
    "        a,b = get_projection(a,b)\n",
    "    return a,b"
   ]
  },
  {
   "cell_type": "code",
   "execution_count": 4,
   "metadata": {
    "collapsed": false
   },
   "outputs": [
    {
     "name": "stdout",
     "output_type": "stream",
     "text": [
      "(35000, 3415, 31585)\n",
      "('TPR =', 0.5537335285505125, 'TNR =', 0.50463827766344782)\n",
      "(1.0, 0.9999833748500325)\n"
     ]
    }
   ],
   "source": [
    "w = np.random.uniform(low=-1,high=1,size=(22,))\n",
    "a,b = 1.0,1.0\n",
    "y,x = read_problem('./data/ijcnn1.tr')\n",
    "a,b=gradient_ascent(x,y,w,a,b)\n",
    "print(a,b)"
   ]
  },
  {
   "cell_type": "markdown",
   "metadata": {},
   "source": [
    "## Liblinear for primal variable w"
   ]
  },
  {
   "cell_type": "code",
   "execution_count": 6,
   "metadata": {
    "collapsed": false
   },
   "outputs": [],
   "source": [
    "# customized liblinear\n",
    "import sys\n",
    "sys.path.insert(0, \"/home/debojyoti/opt/liblinear-2.1\")\n",
    "from ppython import liblinear\n",
    "from ppython.liblinear import *\n",
    "from ppython.liblinearutil import *"
   ]
  },
  {
   "cell_type": "code",
   "execution_count": 10,
   "metadata": {
    "collapsed": false
   },
   "outputs": [
    {
     "name": "stdout",
     "output_type": "stream",
     "text": [
      "('TPR =', 0.42489019033674963, 'TNR =', 0.58701915466202315)\n",
      "(1.0, 0.9973807186954071)\n",
      "[-0.399636899688233, -0.3975003186065648, -0.4000266950517637, -0.39249173044802216, -0.3916591714487819, -0.3993992383604229, -0.40393368210943514, -0.3935115229800014, -0.39225215686906395, -0.3946437841829917, 0.06950938311312926, -0.6813859024543056, 0.010690421902316475, 0.008513191509589235, 0.007694206793494441, -0.003933561597854149, -0.0630462885373821, -0.08070157543086653, -0.05139724813564644, 0.02729236118165969, 0.01952788445363988, 0.023678081300458533]\n",
      "('TPR =', 0.0, 'TNR =', 1.0)\n",
      "(1.0, 0.9927272439444212)\n",
      "[-0.23984937212974833, -0.23958091446915883, -0.2393573256704305, -0.23893894736828317, -0.23892910239482432, -0.2397979803791173, -0.2402484424147512, -0.23889373905098507, -0.2391491608264997, -0.23937759583289073, 0.0345453829507538, -0.36850410957249546, 0.012468272807299128, 0.012012427999441556, 0.010606431070096846, 0.008667964993497094, 0.003716686834267388, 0.0020154366983032197, 0.0060101013664741534, 0.012787842659229718, 0.013780819671220374, 0.014123728204649239]\n",
      "('TPR =', 0.0, 'TNR =', 1.0)\n",
      "(1.0, 0.9927272439444212)\n",
      "[-0.1366089221897064, -0.13659375398964954, -0.13637912899652396, -0.13683324070759906, -0.13690630955654765, -0.13647844381225155, -0.13635055058677356, -0.13609166421638477, -0.13690224071881432, -0.13689652260936674, 0.016627133238299112, -0.19085989542843326, 0.015354418775944546, 0.015887465860405754, 0.015673782180987243, 0.015387149641719416, 0.015724160445345435, 0.016052535221164742, 0.017107274476764283, 0.018653267854735013, 0.0184755080793013, 0.017695498020269693]\n",
      "('TPR =', 0.0, 'TNR =', 1.0)\n",
      "(1.0, 0.9927272439444212)\n",
      "[-0.07648827032741101, -0.07567700239852504, -0.07594744302621423, -0.07583221802090355, -0.07656013227417868, -0.07602540762771269, -0.07611735789629474, -0.0762607185406473, -0.0760538221355655, -0.07642301805467322, 0.008593101589041136, -0.10295074252589764, 0.009757335972128923, 0.009749105771133809, 0.009564936343820671, 0.010373728426427897, 0.010385601663358394, 0.011700756376293912, 0.011553196906942736, 0.011601488270782957, 0.011669125492520424, 0.009737049702751958]\n",
      "('TPR =', 0.0, 'TNR =', 1.0)\n",
      "(1.0, 0.9927272439444212)\n",
      "[-0.04183321906583295, -0.04208290945514182, -0.041728810736635945, -0.04215529125933572, -0.04209213487805096, -0.042083139457310216, -0.041825529990245254, -0.04180239719656689, -0.04203731819693584, -0.04204797330726179, 0.004119150292343954, -0.056598686417046976, 0.005210323323149263, 0.005101769746885712, 0.0053080395607104135, 0.005284085870898155, 0.006064761435396087, 0.006661429026366028, 0.006279160532604092, 0.007034497220572524, 0.005787776812596483, 0.005070805708993195]\n",
      "('TPR =', 0.0, 'TNR =', 1.0)\n",
      "(1.0, 0.9927272439444212)\n",
      "[-0.022983988183835097, -0.023115373871334822, -0.0229963709392305, -0.023090535356290246, -0.023039551453646435, -0.023326892639493123, -0.023191829193133104, -0.023092606024827655, -0.02324111107011637, -0.023037914110203728, 0.002134073564678753, -0.0314345021073958, 0.002977916826435941, 0.0028430953634006337, 0.002881200911404082, 0.003033993225687843, 0.0036189934280289066, 0.0036432165104608224, 0.0037248498851534667, 0.003493118774914965, 0.003252969185550408, 0.00269291999432113]\n",
      "('TPR =', 0.0, 'TNR =', 1.0)\n",
      "(1.0, 0.9927272439444212)\n",
      "[-0.012674593488633534, -0.012639424196527499, -0.012734601323294046, -0.012735715555436648, -0.012753041078999014, -0.012823016908615335, -0.012709968263944927, -0.01268341240590245, -0.012739280762978563, -0.012747997552359988, 0.0013378366214657894, -0.017234468359426304, 0.0017684357074555512, 0.0017236703607406637, 0.0015520954991041411, 0.0015885503464246574, 0.0018181480705232573, 0.0019709339891362146, 0.0020082833686072736, 0.0020051286385583595, 0.0018463871507249964, 0.001720356556835209]\n",
      "('TPR =', 0.0, 'TNR =', 1.0)\n",
      "(1.0, 0.9927272439444212)\n",
      "[-0.006998213532969586, -0.006964097003850319, -0.006968913274098809, -0.006968051311644851, -0.006980254616963408, -0.007018152139952376, -0.0069684408103756375, -0.006921812289613397, -0.006984924025994417, -0.006977631734551206, 0.0006968393154863328, -0.009668117976030056, 0.0009896841643245362, 0.0008907704753757292, 0.0008325086855618954, 0.0008145516335247543, 0.000996305064208588, 0.0012323958742627848, 0.0011173032399272027, 0.0012024400691570017, 0.0011389604931891719, 0.0008763409636642467]\n",
      "('TPR =', 0.0, 'TNR =', 1.0)\n",
      "(1.0, 0.9927272439444212)\n",
      "[-0.0038588984065980624, -0.003822034521213488, -0.0038789381267339755, -0.0038446922776413815, -0.003852700312811003, -0.003850210612437798, -0.00385453518050069, -0.003841748253023283, -0.0038501585137722615, -0.00384507024170309, 0.0003871553105396675, -0.005223867689514435, 0.0004983531960466919, 0.0004558906434403114, 0.0005045940221276338, 0.0005463363539086846, 0.0005996001782720885, 0.0006068943861953435, 0.0006355854453970897, 0.0005887960061663578, 0.0005473761185942296, 0.0003988345709703416]\n",
      "('TPR =', 0.0, 'TNR =', 1.0)\n",
      "(1.0, 0.9927272439444212)\n",
      "[-0.0021167667158854065, -0.00210653513280692, -0.0021265110481824175, -0.0021214196953998287, -0.0021307502040218266, -0.002121481167160904, -0.002123844356848369, -0.0021137999319761876, -0.002119828673564095, -0.0021099702846780516, 0.00019319901775827038, -0.0028715788244681804, 0.00029859162016282806, 0.00024047155784403206, 0.0002534875933952943, 0.0002741449687264919, 0.00029555248565162073, 0.0003490816829587681, 0.0003583431273041586, 0.0003587445795798407, 0.0003123679854094208, 0.0002514878868497524]\n"
     ]
    }
   ],
   "source": [
    "def modifyx(x,y,a,b,n,n_pos,n_neg):\n",
    "    scale_pos = float(2*n_pos)/(a*n)\n",
    "    scale_neg = float(2*n_neg)/(b*n)\n",
    "    for i in range(len(y)):\n",
    "        if y[i]==1:\n",
    "            x[i].update((key,val*scale_pos) for key,val in x[i].items())\n",
    "        else:\n",
    "            x[i].update((key,val*scale_neg) for key,val in x[i].items())\n",
    "    return x\n",
    "# init section\n",
    "a,b = 1,1\n",
    "y_lst,x_lst = read_problem('./data/ijcnn1.tr') # x as numpy list\n",
    "n_dim = len(x_lst[0])\n",
    "w = np.random.uniform(low=-1,high=1,size=(n_dim,))\n",
    "y_orig,x_orig = svm_read_problem('./data/ijcnn1.tr') # x in liblinear compatible dictionary format\n",
    "n = len(y)\n",
    "n_pos = len([i for i in range(n) if y[i]==1])\n",
    "n_neg = n-n_pos\n",
    "c = 5.0\n",
    "# Iterative section: Gradient Ascent & Liblinear\n",
    "for i in range(10):\n",
    "    a,b = gradient_ascent(x_lst,y_lst,w,a,b) #Gradient ascent\n",
    "    c1 = float(a)/n_pos\n",
    "    c2 = float(b)/n_neg\n",
    "    param = parameter('-s 3 -w1 {} -w-1 {} -c {}'.format(c1,c2,c))\n",
    "    x = modifyx(x_orig,y_orig,a,b,n,n_pos,n_neg)\n",
    "    prob = problem(y_orig,x)\n",
    "    model = train(prob,param)\n",
    "    # Get model parameters\n",
    "    w = model.get_decfun()[0]\n",
    "    print(a,b)\n",
    "    print w"
   ]
  },
  {
   "cell_type": "code",
   "execution_count": 53,
   "metadata": {
    "collapsed": false
   },
   "outputs": [
    {
     "name": "stdout",
     "output_type": "stream",
     "text": [
      "{6: 10.0, 11: -7.3185400000000005, 12: 1.73431, 13: 0.0, 14: 0.0027, 15: 0.11684, 16: -0.11052, 17: 0.24452000000000002, 18: 0.08337, 19: 0.013240000000000002, 20: 0.25544, 21: -0.40728, 22: -0.0081}\n",
      "{6: 100.0, 11: -73.1854, 12: 17.3431, 13: 0.0, 14: 0.027000000000000003, 15: 1.1684, 16: -1.1052, 17: 2.4452000000000003, 18: 0.8337, 19: 0.13240000000000002, 20: 2.5544000000000002, 21: -4.0728, 22: -0.08099999999999999}\n"
     ]
    }
   ],
   "source": [
    "# y_orig,x_orig = svm_read_problem('./data/ijcnn1.tr')\n",
    "t = x_orig[0]\n",
    "print t\n",
    "t.update((x,y*10) for x,y in t.items())\n",
    "print t"
   ]
  },
  {
   "cell_type": "code",
   "execution_count": 8,
   "metadata": {
    "collapsed": false
   },
   "outputs": [
    {
     "data": {
      "text/plain": [
       "([0.020088400051177527,\n",
       "  0.02078000240895638,\n",
       "  0.017383681282139466,\n",
       "  0.01922073585258815,\n",
       "  0.01871566162727098,\n",
       "  0.018957471615453476,\n",
       "  0.020564558992360284,\n",
       "  0.019204518613350992,\n",
       "  0.018384635918062716,\n",
       "  0.019919263327922897,\n",
       "  0.0004097609048048318,\n",
       "  0.04549050018405845,\n",
       "  -0.00019739460456936307,\n",
       "  -0.0003677184740392728,\n",
       "  0.0003408332898644388,\n",
       "  0.0007132671938060524,\n",
       "  -0.014374657235245919,\n",
       "  -0.01787257671927265,\n",
       "  -0.011937403539873225,\n",
       "  0.006379924826240279,\n",
       "  0.0016604175632452852,\n",
       "  0.0034085857729773757],\n",
       " 0.0)"
      ]
     },
     "execution_count": 8,
     "metadata": {},
     "output_type": "execute_result"
    }
   ],
   "source": [
    "y,x = svm_read_problem('./data/ijcnn1.tr')\n",
    "prob = problem(y,x)\n",
    "# Compute parameters\n",
    "n = len(y)\n",
    "n_pos = len([i for i in range(n) if y[i]==1])\n",
    "n_neg = n-n_pos\n",
    "c1 = a/n_pos\n",
    "c2 = b/n_neg\n",
    "param = parameter('-w-1 {} -c {}'.format(c2,c1))\n",
    "model = train(prob,param)\n",
    "# Get model parameters\n",
    "model.get_decfun()"
   ]
  },
  {
   "cell_type": "code",
   "execution_count": 10,
   "metadata": {
    "collapsed": false
   },
   "outputs": [],
   "source": [
    "# def gradient_ascent_batch(x,y,w,alpha=0.1,ep=0.0001,maxiter=100):\n",
    "#     n = x.shape[0]\n",
    "#     n_pos = len([i for i in range(n) if y[i]==1])\n",
    "#     n_neg = n-n_pos\n",
    "#     a,b = 0.1,0.1\n",
    "#     ind_pos = [i for i in range(n) if y[i]>0]\n",
    "#     ind_neg = [i for i in range(n) if y[i]<0]\n",
    "#     x_pos = x[ind_pos]\n",
    "#     x_neg = x[ind_neg]\n",
    "#     tpr,tnr = get_tp_tn(x,y,w)\n",
    "#     tpr /= n_pos\n",
    "#     tnr /= n_neg\n",
    "#     print 'TPR =',tpr,'TNR =',tnr\n",
    "#     for i in range(maxiter):\n",
    "#         # Positive instances\n",
    "#         tmp = 1 - (2*n_pos)/(a*n)*x_pos.dot(w)\n",
    "#         j = np.where(tmp>0)\n",
    "#         tmp = np.zeros_like(tmp)\n",
    "#         tmp[j]=1/n_pos\n",
    "#         a += alpha * (sum(tmp)-1+tpr)\n",
    "#         # Negative instances\n",
    "#         tmp = 1 + (2*n_neg)/(b*n)*x_neg.dot(w)\n",
    "#         j = np.where(tmp>0)\n",
    "#         tmp = np.zeros_like(tmp)\n",
    "#         tmp[j]=1/n_neg\n",
    "#         b += alpha * (sum(tmp)-1+tnr)\n",
    "#         print a,b"
   ]
  }
 ],
 "metadata": {
  "anaconda-cloud": {},
  "kernelspec": {
   "display_name": "Python [conda root]",
   "language": "python",
   "name": "conda-root-py"
  },
  "language_info": {
   "codemirror_mode": {
    "name": "ipython",
    "version": 2
   },
   "file_extension": ".py",
   "mimetype": "text/x-python",
   "name": "python",
   "nbconvert_exporter": "python",
   "pygments_lexer": "ipython2",
   "version": "2.7.12"
  }
 },
 "nbformat": 4,
 "nbformat_minor": 1
}
