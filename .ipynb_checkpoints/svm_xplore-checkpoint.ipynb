{
 "cells": [
  {
   "cell_type": "code",
   "execution_count": 4,
   "metadata": {
    "collapsed": false
   },
   "outputs": [],
   "source": [
    "# Install liblinear: sudo apt-get install python-liblinear\n",
    "from liblinearutil import *\n",
    "import numpy as np"
   ]
  },
  {
   "cell_type": "code",
   "execution_count": 25,
   "metadata": {
    "collapsed": false
   },
   "outputs": [
    {
     "data": {
      "text/plain": [
       "{6: 1.0,\n",
       " 11: -0.731854,\n",
       " 12: 0.173431,\n",
       " 13: 0.0,\n",
       " 14: 0.00027,\n",
       " 15: 0.011684,\n",
       " 16: -0.011052,\n",
       " 17: 0.024452,\n",
       " 18: 0.008337,\n",
       " 19: 0.001324,\n",
       " 20: 0.025544,\n",
       " 21: -0.040728,\n",
       " 22: -0.00081}"
      ]
     },
     "execution_count": 25,
     "metadata": {},
     "output_type": "execute_result"
    }
   ],
   "source": [
    "y,x = svm_read_problem('./data/ijcnn1.tr')\n",
    "# m = train(y,x,'-w1 4 -c 5')"
   ]
  },
  {
   "cell_type": "code",
   "execution_count": 5,
   "metadata": {
    "collapsed": true
   },
   "outputs": [],
   "source": [
    "def read_problem(file_name):\n",
    "    y = []\n",
    "    x = []\n",
    "    feature_len = 22\n",
    "    for line in open(file_name):\n",
    "        tmp = line.split(' ',1)\n",
    "        y = y + [int(tmp[0])]\n",
    "        vec = np.zeros(feature_len)\n",
    "        for each in tmp[1].split():\n",
    "            index,val = each.split(':')\n",
    "            vec[int(index)-1] = float(val)\n",
    "        x.append(vec)\n",
    "    y = np.array(y)\n",
    "    x = np.array(x)\n",
    "    return y,x"
   ]
  },
  {
   "cell_type": "code",
   "execution_count": 6,
   "metadata": {
    "collapsed": false
   },
   "outputs": [],
   "source": [
    "y,x = read_problem('./data/ijcnn1.tr')"
   ]
  },
  {
   "cell_type": "code",
   "execution_count": 9,
   "metadata": {
    "collapsed": true
   },
   "outputs": [],
   "source": [
    "def get_tp_tn(x,y,w):\n",
    "    h = x.dot(w)\n",
    "    ind = np.where(h>0)\n",
    "    y1 = -1*np.ones_like(y)\n",
    "    y1[ind] = 1\n",
    "    tp = sum(np.multiply(1+y,1+y1)/4)\n",
    "    tn = sum(np.multiply(1-y,1-y1)/4)\n",
    "    return tp,tn"
   ]
  },
  {
   "cell_type": "code",
   "execution_count": 129,
   "metadata": {
    "collapsed": false
   },
   "outputs": [],
   "source": [
    "def gradient_ascent_batch(x,y,w,alpha=0.1,ep=0.0001,maxiter=100):\n",
    "    n = x.shape[0]\n",
    "    n_pos = len([i for i in range(n) if y[i]==1])\n",
    "    n_neg = n-n_pos\n",
    "    a,b = 0.1,0.1\n",
    "    ind_pos = [i for i in range(n) if y[i]>0]\n",
    "    ind_neg = [i for i in range(n) if y[i]<0]\n",
    "    x_pos = x[ind_pos]\n",
    "    x_neg = x[ind_neg]\n",
    "    tpr,tnr = get_tp_tn(x,y,w)\n",
    "    tpr /= n_pos\n",
    "    tnr /= n_neg\n",
    "    print tpr,tnr\n",
    "    for i in range(maxiter):\n",
    "        # Positive instances\n",
    "        tmp = 1 - (2*n_pos)/(a*n)*x_pos.dot(w)\n",
    "        j = np.where(tmp>0)\n",
    "        tmp = np.zeros_like(tmp)\n",
    "        tmp[j]=1/n_pos\n",
    "        a += alpha * (sum(tmp)-1+tpr)\n",
    "        # Negative instances\n",
    "        tmp = 1 + (2*n_neg)/(b*n)*x_neg.dot(w)\n",
    "        j = np.where(tmp>0)\n",
    "        tmp = np.zeros_like(tmp)\n",
    "        tmp[j]=1/n_neg\n",
    "        b += alpha * (sum(tmp)-1+tnr)\n",
    "        print a,b"
   ]
  },
  {
   "cell_type": "code",
   "execution_count": 17,
   "metadata": {
    "collapsed": false
   },
   "outputs": [],
   "source": [
    "def gradient_ascent(x,y,w,a,b,alpha=0.01):\n",
    "    n = x.shape[0]\n",
    "    n_pos = len([i for i in range(n) if y[i]==1])\n",
    "    n_neg = n-n_pos\n",
    "    ind_pos = [i for i in range(n) if y[i]>0]\n",
    "    ind_neg = [i for i in range(n) if y[i]<0]\n",
    "    tpr,tnr = get_tp_tn(x,y,w)\n",
    "    tpr /= n_pos\n",
    "    tnr /= n_neg\n",
    "    print tpr,tnr\n",
    "    for i in range(n):\n",
    "        g = 0\n",
    "        if i in ind_pos:\n",
    "            try:\n",
    "                tmp = 1 - (2*n_pos)/(a*n)*(x[i].dot(w))\n",
    "            except:\n",
    "                tmp = 0\n",
    "            if tmp > 0:\n",
    "                g += 1/n_pos\n",
    "            g = g-1+tpr\n",
    "            a = a + alpha*g\n",
    "        else:\n",
    "            try:\n",
    "                tmp = 1 + (2*n_neg)/(b*n)*(x[i].dot(w))\n",
    "            except:\n",
    "                tmp = 0\n",
    "            if tmp > 0:\n",
    "                g += 1/n_neg\n",
    "            g = g-1+tnr\n",
    "            b = b + alpha*g\n",
    "        # Projecttion to a,b \\in R+\n",
    "        if a<0:\n",
    "            a=0\n",
    "        if b<0:\n",
    "            b=0\n",
    "        return a,b"
   ]
  },
  {
   "cell_type": "code",
   "execution_count": 18,
   "metadata": {
    "collapsed": false
   },
   "outputs": [
    {
     "name": "stdout",
     "output_type": "stream",
     "text": [
      "0 0\n",
      "0.1 0.09\n"
     ]
    }
   ],
   "source": [
    "w = np.random.uniform(low=-1,high=1,size=(22,))\n",
    "a,b = 0.1,0.1\n",
    "a,b=gradient_ascent(x,y,w,a,b)\n",
    "print a,b"
   ]
  },
  {
   "cell_type": "code",
   "execution_count": 134,
   "metadata": {
    "collapsed": false
   },
   "outputs": [
    {
     "name": "stdout",
     "output_type": "stream",
     "text": [
      "2126 12696\n",
      "2125.1 12695.1\n",
      "4250.1 25390.1\n",
      "6375.1 38085.1\n",
      "8500.1 50780.1\n",
      "10625.1 63475.1\n",
      "12750.1 76170.1\n",
      "14875.1 88865.1\n",
      "17000.1 101560.1\n",
      "19125.1 114255.1\n",
      "21250.1 126950.1\n",
      "23375.1 139645.1\n",
      "25500.1 152340.1\n",
      "27625.1 165035.1\n",
      "29750.1 177730.1\n",
      "31875.1 190425.1\n",
      "34000.1 203120.1\n",
      "36125.1 215815.1\n",
      "38250.1 228510.1\n",
      "40375.1 241205.1\n",
      "42500.1 253900.1\n",
      "44625.1 266595.1\n",
      "46750.1 279290.1\n",
      "48875.1 291985.1\n",
      "51000.1 304680.1\n",
      "53125.1 317375.1\n",
      "55250.1 330070.1\n",
      "57375.1 342765.1\n",
      "59500.1 355460.1\n",
      "61625.1 368155.1\n",
      "63750.1 380850.1\n",
      "65875.1 393545.1\n",
      "68000.1 406240.1\n",
      "70125.1 418935.1\n",
      "72250.1 431630.1\n",
      "74375.1 444325.1\n",
      "76500.1 457020.1\n",
      "78625.1 469715.1\n",
      "80750.1 482410.1\n",
      "82875.1 495105.1\n",
      "85000.1 507800.1\n",
      "87125.1 520495.1\n",
      "89250.1 533190.1\n",
      "91375.1 545885.1\n",
      "93500.1 558580.1\n",
      "95625.1 571275.1\n",
      "97750.1 583970.1\n",
      "99875.1 596665.1\n",
      "102000.1 609360.1\n",
      "104125.1 622055.1\n",
      "106250.1 634750.1\n",
      "108375.1 647445.1\n",
      "110500.1 660140.1\n",
      "112625.1 672835.1\n",
      "114750.1 685530.1\n",
      "116875.1 698225.1\n",
      "119000.1 710920.1\n",
      "121125.1 723615.1\n",
      "123250.1 736310.1\n",
      "125375.1 749005.1\n",
      "127500.1 761700.1\n",
      "129625.1 774395.1\n",
      "131750.1 787090.1\n",
      "133875.1 799785.1\n",
      "136000.1 812480.1\n",
      "138125.1 825175.1\n",
      "140250.1 837870.1\n",
      "142375.1 850565.1\n",
      "144500.1 863260.1\n",
      "146625.1 875955.1\n",
      "148750.1 888650.1\n",
      "150875.1 901345.1\n",
      "153000.1 914040.1\n",
      "155125.1 926735.1\n",
      "157250.1 939430.1\n",
      "159375.1 952125.1\n",
      "161500.1 964820.1\n",
      "163625.1 977515.1\n",
      "165750.1 990210.1\n",
      "167875.1 1002905.1\n",
      "170000.1 1015600.1\n",
      "172125.1 1028295.1\n",
      "174250.1 1040990.1\n",
      "176375.1 1053685.1\n",
      "178500.1 1066380.1\n",
      "180625.1 1079075.1\n",
      "182750.1 1091770.1\n",
      "184875.1 1104465.1\n",
      "187000.1 1117160.1\n",
      "189125.1 1129855.1\n",
      "191250.1 1142550.1\n",
      "193375.1 1155245.1\n",
      "195500.1 1167940.1\n",
      "197625.1 1180635.1\n",
      "199750.1 1193330.1\n",
      "201875.1 1206025.1\n",
      "204000.1 1218720.1\n",
      "206125.1 1231415.1\n",
      "208250.1 1244110.1\n",
      "210375.1 1256805.1\n",
      "212500.1 1269500.1\n"
     ]
    }
   ],
   "source": [
    "w = np.random.uniform(low=-1,high=1,size=(22,))\n",
    "gradient_ascent(x,y,w)"
   ]
  }
 ],
 "metadata": {
  "anaconda-cloud": {},
  "kernelspec": {
   "display_name": "Python 2",
   "language": "python",
   "name": "python2"
  },
  "language_info": {
   "codemirror_mode": {
    "name": "ipython",
    "version": 2
   },
   "file_extension": ".py",
   "mimetype": "text/x-python",
   "name": "python",
   "nbconvert_exporter": "python",
   "pygments_lexer": "ipython2",
   "version": "2.7.11+"
  }
 },
 "nbformat": 4,
 "nbformat_minor": 1
}
