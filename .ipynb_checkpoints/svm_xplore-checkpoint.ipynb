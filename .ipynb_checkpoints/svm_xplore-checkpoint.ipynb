{
 "cells": [
  {
   "cell_type": "code",
   "execution_count": 3,
   "metadata": {
    "collapsed": false
   },
   "outputs": [],
   "source": [
    "# Install liblinear: sudo apt-get install python-liblinear\n",
    "# from liblinearutil import *\n",
    "import numpy as np"
   ]
  },
  {
   "cell_type": "code",
   "execution_count": 8,
   "metadata": {
    "collapsed": true
   },
   "outputs": [],
   "source": [
    "def read_problem(file_name):\n",
    "    y = []\n",
    "    x = []\n",
    "    feature_len = 22\n",
    "    for line in open(file_name):\n",
    "        tmp = line.split(' ',1)\n",
    "        y = y + [int(tmp[0])]\n",
    "        vec = np.zeros(feature_len)\n",
    "        for each in tmp[1].split():\n",
    "            index,val = each.split(':')\n",
    "            vec[int(index)-1] = float(val)\n",
    "        x.append(vec)\n",
    "    y = np.array(y)\n",
    "    x = np.array(x)\n",
    "    return y,x"
   ]
  },
  {
   "cell_type": "code",
   "execution_count": 3,
   "metadata": {
    "collapsed": false
   },
   "outputs": [],
   "source": [
    "y,x = read_problem('./data/ijcnn1.tr')"
   ]
  },
  {
   "cell_type": "code",
   "execution_count": 5,
   "metadata": {
    "collapsed": false
   },
   "outputs": [
    {
     "data": {
      "text/plain": [
       "3.0"
      ]
     },
     "execution_count": 5,
     "metadata": {},
     "output_type": "execute_result"
    }
   ],
   "source": [
    "np.power(27,1/3)"
   ]
  },
  {
   "cell_type": "markdown",
   "metadata": {},
   "source": [
    "# Gradient ascent step for dual variables"
   ]
  },
  {
   "cell_type": "code",
   "execution_count": 13,
   "metadata": {
    "collapsed": false
   },
   "outputs": [],
   "source": [
    "def get_tp_tn(x,y,w):\n",
    "    h = x.dot(w)\n",
    "    ind = np.where(h>0)\n",
    "    y1 = -1*np.ones_like(y)\n",
    "    y1[ind] = 1\n",
    "    tp = sum(np.multiply(1+y,1+y1)/4)\n",
    "    tn = sum(np.multiply(1-y,1-y1)/4)\n",
    "    return tp,tn\n",
    "\n",
    "def get_projection(alpha,beta):\n",
    "    if alpha>0 and beta>0 and alpha*beta>=1/4:\n",
    "        return alpha,beta\n",
    "    a = 16\n",
    "    b = 16*beta\n",
    "    c = 0\n",
    "    d = 4*alpha\n",
    "    e = -1\n",
    "    D0 = c*c - 3*b*d + 12*a*e\n",
    "    D1 = 2*c*c*c-9*b*c*d+27*b*b*e+27*a*d*d-72*a*c*e\n",
    "    p = (8*a*c-3*b*b)/(8*a*a)\n",
    "    q = (b*b*b-4*a*b*c+8*a*a*d)\n",
    "    Q = np.power((D1+np.sqrt(D1*D1-4*D0*D0*D0))/2.0,1/3)\n",
    "    s = 0.5*np.sqrt(-2/3*p+1/(3*a)*(Q+D0/Q))\n",
    "    y1 = -float(b)/(4*a) - s + 0.5*np.sqrt(-4*s*s-2*p+q/s)\n",
    "    y2 = -float(b)/(4*a) - s - 0.5*np.sqrt(-4*s*s-2*p+q/s)\n",
    "    y3 = -float(b)/(4*a) + s + 0.5*np.sqrt(-4*s*s-2*p+q/s)\n",
    "    y4 = -float(b)/(4*a) + s - 0.5*np.sqrt(-4*s*s-2*p+q/s)\n",
    "    x1 = 1/(4*y1)\n",
    "    if x1>=1/4 and y1>=1/4:\n",
    "        return x1,y1\n",
    "    x2 = 1/(4*y2)\n",
    "    if x2>=1/4 and y2>=1/4:\n",
    "        return x2,y2\n",
    "    x3 = 1/(4*y3)\n",
    "    if x3>=1/4 and y3>=1/4:\n",
    "        return x3,y3\n",
    "    x4 = 1/(4*y4)\n",
    "    if x4>=1/4 and y4>=1/4:\n",
    "        return x4,y4\n",
    "    return 1,1\n",
    "\n",
    "def gradient_ascent(x,y,w,a,b,alpha=0.01):\n",
    "    n = x.shape[0]\n",
    "    n_pos = len([i for i in range(n) if y[i]==1])\n",
    "    n_neg = n-n_pos\n",
    "    ind_pos = [i for i in range(n) if y[i]>0]\n",
    "    ind_neg = [i for i in range(n) if y[i]<0]\n",
    "    tpr,tnr = get_tp_tn(x,y,w)\n",
    "    tpr /= float(n_pos)\n",
    "    tnr /= float(n_neg)\n",
    "    print('TPR =',tpr,'TNR =',tnr)\n",
    "    for i in range(n):\n",
    "        g = 0\n",
    "#         alpha = 1/float(i+1)\n",
    "        if i in ind_pos:\n",
    "            try:\n",
    "                tmp = 1 - (2*n_pos)/(a*n)*(x[i].dot(w))\n",
    "            except:\n",
    "                tmp = 0\n",
    "            if tmp > 0:\n",
    "                g += 1/n_pos\n",
    "            g = g-1/n_pos+0 # \\Delta*'(a,b)\n",
    "            a = a + alpha*g\n",
    "        else:\n",
    "            try:\n",
    "                tmp = 1 + (2*n_neg)/(b*n)*(x[i].dot(w))\n",
    "            except:\n",
    "                tmp = 0\n",
    "            if tmp > 0:\n",
    "                g += 1/n_neg\n",
    "            g = g-1/n_neg+0\n",
    "            b = b + alpha*g\n",
    "        # Projection to a,b \\in R+ \\intersect ab>1/4\n",
    "#         a,b = get_projection(a,b)\n",
    "    return a,b"
   ]
  },
  {
   "cell_type": "code",
   "execution_count": 5,
   "metadata": {
    "collapsed": false
   },
   "outputs": [
    {
     "name": "stdout",
     "output_type": "stream",
     "text": [
      "TPR = 0.616983894583 TNR = 0.4372645243\n",
      "21.1699824305 138.209978471\n"
     ]
    }
   ],
   "source": [
    "w = np.random.uniform(low=-1,high=1,size=(22,))\n",
    "a,b = 0.1,0.1\n",
    "a,b=gradient_ascent(x,y,w,a,b)\n",
    "print(a,b)"
   ]
  },
  {
   "cell_type": "markdown",
   "metadata": {},
   "source": [
    "## Liblinear for primal variable w"
   ]
  },
  {
   "cell_type": "code",
   "execution_count": 9,
   "metadata": {
    "collapsed": false
   },
   "outputs": [],
   "source": [
    "# customized liblinear\n",
    "import sys\n",
    "sys.path.append('/home/debojyoti/opt/liblinear-2.1')\n",
    "from ppython import liblinear\n",
    "from ppython.liblinear import *\n",
    "from ppython.liblinearutil import *"
   ]
  },
  {
   "cell_type": "code",
   "execution_count": null,
   "metadata": {
    "collapsed": false
   },
   "outputs": [],
   "source": [
    "# m = train(y,x,'-w1 4 -c 5')"
   ]
  },
  {
   "cell_type": "code",
   "execution_count": 11,
   "metadata": {
    "collapsed": false
   },
   "outputs": [
    {
     "name": "stdout",
     "output_type": "stream",
     "text": [
      "[-1] [0.0043758106212060345]\n"
     ]
    },
    {
     "data": {
      "text/plain": [
       "([0.49014455906442256,\n",
       "  0.497657498955292,\n",
       "  0.45977295420147596,\n",
       "  0.5325482485480034,\n",
       "  0.5375778891294267,\n",
       "  0.4956513391033062,\n",
       "  0.46963508373998464,\n",
       "  0.5086245899909636,\n",
       "  0.517961176022266,\n",
       "  0.5227355068645302,\n",
       "  -0.13811825454967516,\n",
       "  0.8911971814141921,\n",
       "  0.006245671682481706,\n",
       "  -0.010075546481659717,\n",
       "  -0.02694263740456741,\n",
       "  -0.05830889011411127,\n",
       "  -0.41751717582265785,\n",
       "  -0.5879909308554518,\n",
       "  -0.32555054243294634,\n",
       "  0.10953657275671233,\n",
       "  0.06368018685880038,\n",
       "  0.04195977414708689],\n",
       " 0.0)"
      ]
     },
     "execution_count": 11,
     "metadata": {},
     "output_type": "execute_result"
    }
   ],
   "source": [
    "y,x = svm_read_problem('./data/ijcnn1.tr')\n",
    "prob = problem(y,x)\n",
    "# Compute parameters\n",
    "n = len(y)\n",
    "n_pos = len([i for i in range(n) if y[i]==1])\n",
    "n_neg = n-n_pos\n",
    "c1 = a/n_pos\n",
    "c2 = b/n_neg\n",
    "param = parameter('-w-1 {} -c {}'.format(c2,c1))\n",
    "model = train(prob,param)\n",
    "# Get model parameters\n",
    "model.get_decfun()"
   ]
  },
  {
   "cell_type": "code",
   "execution_count": 16,
   "metadata": {
    "collapsed": false
   },
   "outputs": [
    {
     "name": "stdout",
     "output_type": "stream",
     "text": [
      "TPR = 0.304245973646 TNR = 0.67627038151\n",
      "1.0 0.99684407155274\n",
      "TPR = 0.91859443631 TNR = 0.572771885389\n",
      "1.0 0.99684407155274\n",
      "TPR = 0.91859443631 TNR = 0.572771885389\n",
      "1.0 0.99684407155274\n",
      "TPR = 0.91859443631 TNR = 0.572771885389\n",
      "1.0 0.99684407155274\n",
      "TPR = 0.91859443631 TNR = 0.572771885389\n",
      "1.0 0.99684407155274\n",
      "TPR = 0.91859443631 TNR = 0.572771885389\n",
      "1.0 0.99684407155274\n",
      "TPR = 0.91859443631 TNR = 0.572771885389\n",
      "1.0 0.99684407155274\n",
      "TPR = 0.91859443631 TNR = 0.572771885389\n",
      "1.0 0.99684407155274\n",
      "TPR = 0.91859443631 TNR = 0.572771885389\n",
      "1.0 0.99684407155274\n",
      "TPR = 0.91859443631 TNR = 0.572771885389\n",
      "1.0 0.99684407155274\n"
     ]
    }
   ],
   "source": [
    "# init section\n",
    "w = np.random.uniform(low=-1,high=1,size=(22,))\n",
    "a,b = 0.1,0.1\n",
    "y_lst,x_lst = read_problem('./data/ijcnn1.tr')\n",
    "y,x = svm_read_problem('./data/ijcnn1.tr')\n",
    "prob = problem(y,x)\n",
    "n = len(y)\n",
    "n_pos = len([i for i in range(n) if y[i]==1])\n",
    "n_neg = n-n_pos\n",
    "c = 5\n",
    "# Iterative section: Gradient Ascent & Liblinear\n",
    "for i in range(10):\n",
    "    a,b = gradient_ascent(x_lst,y_lst,w,a,b) #Gradient ascent\n",
    "    c1 = a/n_pos\n",
    "    c2 = b/n_neg\n",
    "    param = parameter('-s 3 -w1 {} -w-1 {} -c {}'.format(c1,c2,c))\n",
    "    model = train(prob,param)\n",
    "    # Get model parameters\n",
    "    w = model.get_decfun()[0]\n",
    "    print(a,b)"
   ]
  },
  {
   "cell_type": "code",
   "execution_count": null,
   "metadata": {
    "collapsed": false
   },
   "outputs": [],
   "source": [
    "# def gradient_ascent_batch(x,y,w,alpha=0.1,ep=0.0001,maxiter=100):\n",
    "#     n = x.shape[0]\n",
    "#     n_pos = len([i for i in range(n) if y[i]==1])\n",
    "#     n_neg = n-n_pos\n",
    "#     a,b = 0.1,0.1\n",
    "#     ind_pos = [i for i in range(n) if y[i]>0]\n",
    "#     ind_neg = [i for i in range(n) if y[i]<0]\n",
    "#     x_pos = x[ind_pos]\n",
    "#     x_neg = x[ind_neg]\n",
    "#     tpr,tnr = get_tp_tn(x,y,w)\n",
    "#     tpr /= n_pos\n",
    "#     tnr /= n_neg\n",
    "#     print 'TPR =',tpr,'TNR =',tnr\n",
    "#     for i in range(maxiter):\n",
    "#         # Positive instances\n",
    "#         tmp = 1 - (2*n_pos)/(a*n)*x_pos.dot(w)\n",
    "#         j = np.where(tmp>0)\n",
    "#         tmp = np.zeros_like(tmp)\n",
    "#         tmp[j]=1/n_pos\n",
    "#         a += alpha * (sum(tmp)-1+tpr)\n",
    "#         # Negative instances\n",
    "#         tmp = 1 + (2*n_neg)/(b*n)*x_neg.dot(w)\n",
    "#         j = np.where(tmp>0)\n",
    "#         tmp = np.zeros_like(tmp)\n",
    "#         tmp[j]=1/n_neg\n",
    "#         b += alpha * (sum(tmp)-1+tnr)\n",
    "#         print a,b"
   ]
  }
 ],
 "metadata": {
  "anaconda-cloud": {},
  "kernelspec": {
   "display_name": "Python [conda root]",
   "language": "python",
   "name": "conda-root-py"
  },
  "language_info": {
   "codemirror_mode": {
    "name": "ipython",
    "version": 3
   },
   "file_extension": ".py",
   "mimetype": "text/x-python",
   "name": "python",
   "nbconvert_exporter": "python",
   "pygments_lexer": "ipython3",
   "version": "3.5.2"
  }
 },
 "nbformat": 4,
 "nbformat_minor": 1
}
