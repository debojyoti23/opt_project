{
 "cells": [
  {
   "cell_type": "code",
   "execution_count": 3,
   "metadata": {
    "collapsed": false
   },
   "outputs": [],
   "source": [
    "# Install liblinear: sudo apt-get install python-liblinear\n",
    "# from liblinearutil import *\n",
    "import numpy as np\n",
    "from sklearn import preprocessing"
   ]
  },
  {
   "cell_type": "code",
   "execution_count": 42,
   "metadata": {
    "collapsed": false
   },
   "outputs": [],
   "source": [
    "def do_normalize(x):\n",
    "    x = np.array(x)\n",
    "    x_scaled = preprocessing.scale(x)\n",
    "    return x_scaled\n",
    "\n",
    "def read_problem(file_name):\n",
    "    y = []\n",
    "    x = []\n",
    "    feature_len = 22\n",
    "    ct = 0\n",
    "    for line in open(file_name):\n",
    "        ct += 1\n",
    "        tmp = line.split(' ',1)\n",
    "        y = y + [int(float(tmp[0]))]\n",
    "        vec = np.zeros(feature_len)\n",
    "        for each in tmp[1].split():\n",
    "            index,val = each.split(':')\n",
    "            vec[int(index)-1] = float(val)\n",
    "        x.append(vec)\n",
    "    x = do_normalize(x)\n",
    "    x = np.array(x)\n",
    "    y = np.array(y)\n",
    "    return y,x\n",
    "\n",
    "def convert_to_dictionary(x):\n",
    "    feature_len = x.shape[1]\n",
    "    indx = range(1,23)\n",
    "    x_new = []\n",
    "    for row in x:\n",
    "        x_new.append(dict(zip(indx,row)))\n",
    "    return x_new"
   ]
  },
  {
   "cell_type": "markdown",
   "metadata": {},
   "source": [
    "# Gradient ascent step for dual variables"
   ]
  },
  {
   "cell_type": "code",
   "execution_count": 49,
   "metadata": {
    "collapsed": false
   },
   "outputs": [],
   "source": [
    "def get_tp_tn(x,y,w):\n",
    "    h = x.dot(w)\n",
    "    ind = np.where(h>0)\n",
    "    y1 = -1*np.ones_like(y)\n",
    "    y1[ind] = 1\n",
    "    tp = sum(np.multiply(1+y,1+y1)/4)\n",
    "    tn = sum(np.multiply(1-y,1-y1)/4)\n",
    "    return tp,tn\n",
    "\n",
    "def get_projection(alpha,beta):\n",
    "    if alpha>0 and beta>0 and alpha*beta>=1.0/4:\n",
    "        return alpha,beta\n",
    "    coef = [16,-16*alpha,0,4*beta,-1]\n",
    "    roots = np.roots(coef)\n",
    "    im = np.imag(roots)\n",
    "    re = np.real(roots)\n",
    "    for r,i in zip(re,im):\n",
    "        if i==0 and r>0:\n",
    "            r1 = 1.0/(4*r)\n",
    "            return np.round(r,decimals=2),np.round(r1,decimals=2)\n",
    "        \n",
    "def cross_validation_objective(x,y,w,a,b):\n",
    "    n = len(y)\n",
    "    ind_pos = [i for i in range(n) if y[i]>0]\n",
    "    ind_neg = [i for i in range(n) if y[i]<0]\n",
    "    x_pos = x[ind_pos]\n",
    "    x_neg = x[ind_neg]\n",
    "    n_pos = len(ind_pos)\n",
    "    n_neg = len(ind_neg)\n",
    "    # positives\n",
    "    tmp = np.maximum(0,1 - (2*n_pos)/(a*n)*x_pos.dot(w))\n",
    "    obj = a/n_pos*sum(tmp)\n",
    "    # negatives\n",
    "    tmp = np.maximum(0,1 + (2*n_neg)/(b*n)*x_neg.dot(w))\n",
    "    obj += b/n_neg*sum(tmp)\n",
    "    obj = obj-(a+b)\n",
    "    return obj\n",
    "\n",
    "# Change it to gradient descent\n",
    "def gradient_ascent(x,y,x_val,y_val,w,a,b,alpha=1,maxiter=50,tolerance=0.0001):\n",
    "    n = x.shape[0]\n",
    "    n_pos = len([i for i in range(n) if y[i]==1])\n",
    "    n_neg = n-n_pos\n",
    "    ind_pos = [i for i in range(n) if y[i]>0]\n",
    "    ind_neg = [i for i in range(n) if y[i]<0]\n",
    "    x_pos = x[ind_pos]\n",
    "    x_neg = x[ind_neg]\n",
    "    tpr,tnr = get_tp_tn(x,y,w)\n",
    "    tpr /= float(n_pos)\n",
    "    tnr /= float(n_neg)\n",
    "    print('-------------Starting Gradient Ascent: step={},tolerance={}------------'.format(alpha,tolerance))\n",
    "    print('n_pos={},n_neg={},TPR ={},TNR={}'.format(n_pos,n_neg,tpr,tnr))\n",
    "    for it in range(maxiter):\n",
    "#         alpha = 1.0/(it+1)\n",
    "        # for positives\n",
    "        tmp = 1 - (2*n_pos)/(a*n)*x_pos.dot(w)\n",
    "        j = np.where(tmp>1)[0] # misclassification instead of margin violation\n",
    "        tmp = np.zeros_like(tmp)\n",
    "        tmp[j]=1.0\n",
    "        pos_violation = sum(tmp)\n",
    "#         print('pos-violation={}'.format(sum(tmp)))\n",
    "        ga = sum(tmp)/n_pos-1\n",
    "        # for negatives\n",
    "        tmp = 1 + (2*n_neg)/(b*n)*x_neg.dot(w)\n",
    "        j = np.where(tmp>1)[0] # misclassification instead of margin violation\n",
    "        tmp = np.zeros_like(tmp)\n",
    "        tmp[j]=1.0\n",
    "        neg_violation = sum(tmp)\n",
    "#         print('neg-violation={}'.format(sum(tmp)))\n",
    "        gb = sum(tmp)/n_neg-1\n",
    "        # Update a,b\n",
    "        if np.sqrt(ga*ga+gb*gb)<tolerance:\n",
    "            print('------------Returning[gradient too small]: grad_pos = {} grad_neg = {}-----------'.format(ga,gb))\n",
    "            return a,b\n",
    "        a += alpha*ga\n",
    "        b += alpha*gb\n",
    "        # Projection to a,b \\in R+ \\intersect ab>1/4\n",
    "        a,b = get_projection(a,b)\n",
    "        cv_obj = cross_validation_objective(x_val,y_val,w,a,b)\n",
    "        if it>0 and cv_obj-cv_obj_prev<=0:\n",
    "            alpha /= 10.0\n",
    "        print('#{} grad_pos={}, grad_neg={}, objective={}, stepsize={}'.format(it,ga,gb,cv_obj,alpha))\n",
    "        cv_obj_prev = cv_obj\n",
    "    print('---------------Returning[normal]: grad_pos = {} grad_neg = {}-------------'.format(ga,gb))\n",
    "    return a,b"
   ]
  },
  {
   "cell_type": "markdown",
   "metadata": {},
   "source": [
    "## Liblinear for primal variable w"
   ]
  },
  {
   "cell_type": "code",
   "execution_count": 28,
   "metadata": {
    "collapsed": false
   },
   "outputs": [],
   "source": [
    "# customized liblinear\n",
    "import sys\n",
    "sys.path.insert(0, \"/home/debojyoti/opt/liblinear-2.1\")\n",
    "from ppython import liblinear\n",
    "from ppython.liblinear import *\n",
    "from ppython.liblinearutil import *"
   ]
  },
  {
   "cell_type": "code",
   "execution_count": 50,
   "metadata": {
    "collapsed": false,
    "scrolled": false
   },
   "outputs": [
    {
     "name": "stdout",
     "output_type": "stream",
     "text": [
      "-------------Starting Gradient Ascent: step=1,tolerance=0.0001------------\n",
      "n_pos=3415,n_neg=31585,TPR =0.577745241581,TNR=0.49726135824\n",
      "---------------Returning[normal]: grad_pos = -0.577745241581 grad_neg = -0.49726135824-------------\n",
      "--------------------Running SVM, a = 0.47, b = 0.53----------------------\n",
      "-------------Starting Gradient Ascent: step=1,tolerance=0.0001------------\n",
      "n_pos=3415,n_neg=31585,TPR =0.968081991215,TNR=0.685958524616\n",
      "---------------Returning[normal]: grad_pos = -0.968081991215 grad_neg = -0.685958524616-------------\n",
      "--------------------Running SVM, a = 0.43, b = 0.58----------------------\n",
      "-------------Starting Gradient Ascent: step=1,tolerance=0.0001------------\n",
      "n_pos=3415,n_neg=31585,TPR =0.954026354319,TNR=0.686370112395\n",
      "---------------Returning[normal]: grad_pos = -0.954026354319 grad_neg = -0.686370112395-------------\n",
      "--------------------Running SVM, a = 0.42, b = 0.59----------------------\n",
      "-------------Starting Gradient Ascent: step=1,tolerance=0.0001------------\n",
      "n_pos=3415,n_neg=31585,TPR =0.947877013177,TNR=0.686180148805\n",
      "---------------Returning[normal]: grad_pos = -0.947877013177 grad_neg = -0.686180148805-------------\n",
      "--------------------Running SVM, a = 0.42, b = 0.59----------------------\n",
      "-------------Starting Gradient Ascent: step=1,tolerance=0.0001------------\n",
      "n_pos=3415,n_neg=31585,TPR =0.948169838946,TNR=0.686718378977\n",
      "---------------Returning[normal]: grad_pos = -0.948169838946 grad_neg = -0.686718378977-------------\n",
      "--------------------Running SVM, a = 0.42, b = 0.59----------------------\n",
      "-------------Starting Gradient Ascent: step=1,tolerance=0.0001------------\n",
      "n_pos=3415,n_neg=31585,TPR =0.950512445095,TNR=0.686655057781\n",
      "---------------Returning[normal]: grad_pos = -0.950512445095 grad_neg = -0.686655057781-------------\n",
      "--------------------Running SVM, a = 0.42, b = 0.59----------------------\n",
      "-------------Starting Gradient Ascent: step=1,tolerance=0.0001------------\n",
      "n_pos=3415,n_neg=31585,TPR =0.69897510981,TNR=0.568940952984\n",
      "---------------Returning[normal]: grad_pos = -0.69897510981 grad_neg = -0.568940952984-------------\n",
      "--------------------Running SVM, a = 0.449215672248, b = 0.559361585023----------------------\n",
      "-------------Starting Gradient Ascent: step=1,tolerance=0.0001------------\n",
      "n_pos=3415,n_neg=31585,TPR =0.438945827233,TNR=0.628557859744\n",
      "---------------Returning[normal]: grad_pos = -0.438945827233 grad_neg = -0.628557859744-------------\n",
      "--------------------Running SVM, a = 0.59, b = 0.42----------------------\n",
      "-------------Starting Gradient Ascent: step=1,tolerance=0.0001------------\n",
      "n_pos=3415,n_neg=31585,TPR =0.662079062958,TNR=0.555801804654\n",
      "---------------Returning[normal]: grad_pos = -0.662079062958 grad_neg = -0.555801804654-------------\n",
      "--------------------Running SVM, a = 0.46, b = 0.54----------------------\n",
      "-------------Starting Gradient Ascent: step=1,tolerance=0.0001------------\n",
      "n_pos=3415,n_neg=31585,TPR =0.6878477306,TNR=0.576191230014\n",
      "---------------Returning[normal]: grad_pos = -0.6878477306 grad_neg = -0.576191230014-------------\n",
      "--------------------Running SVM, a = 0.46, b = 0.54----------------------\n"
     ]
    }
   ],
   "source": [
    "def modifyx(x,y,a,b,n,n_pos,n_neg):\n",
    "    scale_pos = float(2*n_pos)/(a*n)\n",
    "    scale_neg = float(2*n_neg)/(b*n)\n",
    "    for i in range(len(y)):\n",
    "        if y[i]==1:\n",
    "            x[i].update((key,val*scale_pos) for key,val in x[i].items())\n",
    "        else:\n",
    "            x[i].update((key,val*scale_neg) for key,val in x[i].items())\n",
    "    return x\n",
    "# init section\n",
    "a,b = 0.5,0.5\n",
    "y_train,x_train = read_problem('./data/ijcnn1.tr') # x as numpy list\n",
    "y_val,x_val = read_problem('./data/ijcnn1.val')\n",
    "n_dim = len(x_train[0])\n",
    "w = np.random.uniform(low=-1,high=1,size=(n_dim,))\n",
    "# y_train_svm,x_train_svm = svm_read_problem('./data/ijcnn1.tr') # x in liblinear compatible dictionary format\n",
    "x_train_svm = convert_to_dictionary(x_train)\n",
    "y_train_svm = y_train\n",
    "n = len(y_train)\n",
    "n_pos = len([i for i in range(n) if y_train[i]==1])\n",
    "n_neg = n-n_pos\n",
    "c = 5\n",
    "# Iterative section: Gradient Ascent & Liblinear\n",
    "for i in range(10):\n",
    "    a,b = gradient_ascent(x_train,y_train,x_val,y_val,w,a,b) #Gradient ascent\n",
    "    c1 = float(a)/n_pos\n",
    "    c2 = float(b)/n_neg\n",
    "    param = parameter('-s 3 -w1 {} -w-1 {} -c {}'.format(c1,c2,c))\n",
    "    x = modifyx(x_train_svm,y_train_svm,a,b,n,n_pos,n_neg)\n",
    "    prob = problem(y_train_svm,x)\n",
    "    print('--------------------Running SVM, a = {}, b = {}----------------------'.format(a,b))\n",
    "    model = train(prob,param)\n",
    "    # Get model parameters\n",
    "    w = model.get_decfun()[0]"
   ]
  },
  {
   "cell_type": "code",
   "execution_count": 6,
   "metadata": {
    "collapsed": false
   },
   "outputs": [
    {
     "data": {
      "text/plain": [
       "array([1, 2, 0])"
      ]
     },
     "execution_count": 6,
     "metadata": {},
     "output_type": "execute_result"
    }
   ],
   "source": [
    "x = np.array([1,2,-4])\n",
    "np.maximum(0,x)"
   ]
  },
  {
   "cell_type": "code",
   "execution_count": null,
   "metadata": {
    "collapsed": true
   },
   "outputs": [],
   "source": []
  }
 ],
 "metadata": {
  "anaconda-cloud": {},
  "kernelspec": {
   "display_name": "Python [conda root]",
   "language": "python",
   "name": "conda-root-py"
  },
  "language_info": {
   "codemirror_mode": {
    "name": "ipython",
    "version": 2
   },
   "file_extension": ".py",
   "mimetype": "text/x-python",
   "name": "python",
   "nbconvert_exporter": "python",
   "pygments_lexer": "ipython2",
   "version": "2.7.12"
  }
 },
 "nbformat": 4,
 "nbformat_minor": 1
}
