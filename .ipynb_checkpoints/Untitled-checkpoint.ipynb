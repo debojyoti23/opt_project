{
 "cells": [
  {
   "cell_type": "code",
   "execution_count": 28,
   "metadata": {
    "collapsed": false
   },
   "outputs": [],
   "source": [
    "import numpy\n",
    "def get_proj(u,v):\n",
    "    coef = [16,-16*u,0,4*v,-1]\n",
    "    roots = numpy.roots(coef)\n",
    "    im = numpy.imag(roots)\n",
    "    re = numpy.real(roots)\n",
    "    for r,i in zip(re,im):\n",
    "        if i==0 and r>0:\n",
    "            r2 = 1.0/(4*r1)\n",
    "            return numpy.round(r1,decimals=2),numpy.round(r2,decimals=2)"
   ]
  },
  {
   "cell_type": "code",
   "execution_count": 29,
   "metadata": {
    "collapsed": false
   },
   "outputs": [
    {
     "name": "stdout",
     "output_type": "stream",
     "text": [
      "0.42 0.6\n"
     ]
    },
    {
     "data": {
      "text/plain": [
       "(0.41999999999999998, 0.59999999999999998)"
      ]
     },
     "execution_count": 29,
     "metadata": {},
     "output_type": "execute_result"
    }
   ],
   "source": [
    "get_proj(.3,.5)"
   ]
  }
 ],
 "metadata": {
  "anaconda-cloud": {},
  "kernelspec": {
   "display_name": "Python [conda root]",
   "language": "python",
   "name": "conda-root-py"
  },
  "language_info": {
   "codemirror_mode": {
    "name": "ipython",
    "version": 3
   },
   "file_extension": ".py",
   "mimetype": "text/x-python",
   "name": "python",
   "nbconvert_exporter": "python",
   "pygments_lexer": "ipython3",
   "version": "3.5.2"
  }
 },
 "nbformat": 4,
 "nbformat_minor": 1
}
