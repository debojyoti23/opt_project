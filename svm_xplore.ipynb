{
 "cells": [
  {
   "cell_type": "code",
   "execution_count": 2,
   "metadata": {
    "collapsed": false
   },
   "outputs": [],
   "source": [
    "# Install liblinear: sudo apt-get install python-liblinear\n",
    "# from liblinearutil import *\n",
    "import numpy as np"
   ]
  },
  {
   "cell_type": "code",
   "execution_count": 3,
   "metadata": {
    "collapsed": true
   },
   "outputs": [],
   "source": [
    "def read_problem(file_name):\n",
    "    y = []\n",
    "    x = []\n",
    "    feature_len = 22\n",
    "    for line in open(file_name):\n",
    "        tmp = line.split(' ',1)\n",
    "        y = y + [int(tmp[0])]\n",
    "        vec = np.zeros(feature_len)\n",
    "        for each in tmp[1].split():\n",
    "            index,val = each.split(':')\n",
    "            vec[int(index)-1] = float(val)\n",
    "        x.append(vec)\n",
    "    y = np.array(y)\n",
    "    x = np.array(x)\n",
    "    return y,x"
   ]
  },
  {
   "cell_type": "markdown",
   "metadata": {},
   "source": [
    "# Gradient ascent step for dual variables"
   ]
  },
  {
   "cell_type": "code",
   "execution_count": 11,
   "metadata": {
    "collapsed": false
   },
   "outputs": [],
   "source": [
    "def get_tp_tn(x,y,w):\n",
    "    h = x.dot(w)\n",
    "    ind = np.where(h>0)\n",
    "    y1 = -1*np.ones_like(y)\n",
    "    y1[ind] = 1\n",
    "    tp = sum(np.multiply(1+y,1+y1)/4)\n",
    "    tn = sum(np.multiply(1-y,1-y1)/4)\n",
    "    return tp,tn\n",
    "\n",
    "def get_projection(alpha,beta):\n",
    "    if alpha>0 and beta>0 and alpha*beta>=1.0/4:\n",
    "        return alpha,beta\n",
    "    a = 16\n",
    "    b = -16*beta\n",
    "    c = 0\n",
    "    d = 4*alpha\n",
    "    e = -1\n",
    "    D0 = c*c - 3*b*d + 12*a*e\n",
    "    D1 = 2*c*c*c-9*b*c*d+27*b*b*e+27*a*d*d-72*a*c*e\n",
    "    p = (8*a*c-3*b*b)/(8*a*a)\n",
    "    q = (b*b*b-4*a*b*c+8*a*a*d)\n",
    "    Q = np.power((D1+np.sqrt(D1*D1-4*D0*D0*D0))/2.0,1/3)\n",
    "    s = 0.5*np.sqrt(-2/3*p+1/(3*a)*(Q+D0/Q))\n",
    "    y1 = -float(b)/(4*a) - s + 0.5*np.sqrt(-4*s*s-2*p+q/s)\n",
    "    y2 = -float(b)/(4*a) - s - 0.5*np.sqrt(-4*s*s-2*p+q/s)\n",
    "    y3 = -float(b)/(4*a) + s + 0.5*np.sqrt(-4*s*s-2*p+q/s)\n",
    "    y4 = -float(b)/(4*a) + s - 0.5*np.sqrt(-4*s*s-2*p+q/s)\n",
    "    x1 = 1/(4*y1)\n",
    "    if x1>=1/4 and y1>=1/4:\n",
    "        return x1,y1\n",
    "    x2 = 1/(4*y2)\n",
    "    if x2>=1/4 and y2>=1/4:\n",
    "        return x2,y2\n",
    "    x3 = 1/(4*y3)\n",
    "    if x3>=1/4 and y3>=1/4:\n",
    "        return x3,y3\n",
    "    x4 = 1/(4*y4)\n",
    "    if x4>=1/4 and y4>=1/4:\n",
    "        return x4,y4\n",
    "    return 1,1\n",
    "\n",
    "def gradient_ascent(x,y,w,a,b,alpha=0.1):\n",
    "    n = x.shape[0]\n",
    "    n_pos = len([i for i in range(n) if y[i]==1])\n",
    "    n_neg = n-n_pos\n",
    "    ind_pos = [i for i in range(n) if y[i]>0]\n",
    "    ind_neg = [i for i in range(n) if y[i]<0]\n",
    "    tpr,tnr = get_tp_tn(x,y,w)\n",
    "    tpr /= float(n_pos)\n",
    "    tnr /= float(n_neg)\n",
    "    print('TPR =',tpr,'TNR =',tnr)\n",
    "    for i in range(n):\n",
    "        g = 0\n",
    "#         alpha = 1/float(i+1)\n",
    "        if i in ind_pos:\n",
    "            try:\n",
    "                tmp = 1 - (2*n_pos)/(a*n)*(x[i].dot(w))\n",
    "            except:\n",
    "                tmp = 0\n",
    "            if tmp > 0:\n",
    "                g += 1.0/n_pos\n",
    "            g = g-1.0/n_pos+0 # \\Delta*'(a,b)=0\n",
    "            a = a + alpha*g\n",
    "        else:\n",
    "            try:\n",
    "                tmp = 1 + (2*n_neg)/(b*n)*(x[i].dot(w))\n",
    "            except:\n",
    "                tmp = 0\n",
    "            if tmp > 0:\n",
    "                g += 1.0/n_neg\n",
    "            g = g-1.0/n_neg+0\n",
    "            b = b + alpha*g\n",
    "        # Projection to a,b \\in R+ \\intersect ab>1/4\n",
    "        a,b = get_projection(a,b)\n",
    "    return a,b"
   ]
  },
  {
   "cell_type": "code",
   "execution_count": 4,
   "metadata": {
    "collapsed": false
   },
   "outputs": [
    {
     "name": "stdout",
     "output_type": "stream",
     "text": [
      "(35000, 3415, 31585)\n",
      "('TPR =', 0.5537335285505125, 'TNR =', 0.50463827766344782)\n",
      "(1.0, 0.9999833748500325)\n"
     ]
    }
   ],
   "source": [
    "w = np.random.uniform(low=-1,high=1,size=(22,))\n",
    "a,b = 1.0,1.0\n",
    "y,x = read_problem('./data/ijcnn1.tr')\n",
    "a,b=gradient_ascent(x,y,w,a,b)\n",
    "print(a,b)"
   ]
  },
  {
   "cell_type": "markdown",
   "metadata": {},
   "source": [
    "## Liblinear for primal variable w"
   ]
  },
  {
   "cell_type": "code",
   "execution_count": 6,
   "metadata": {
    "collapsed": false
   },
   "outputs": [],
   "source": [
    "# customized liblinear\n",
    "import sys\n",
    "sys.path.insert(0, \"/home/debojyoti/opt/liblinear-2.1\")\n",
    "from ppython import liblinear\n",
    "from ppython.liblinear import *\n",
    "from ppython.liblinearutil import *"
   ]
  },
  {
   "cell_type": "code",
   "execution_count": 12,
   "metadata": {
    "collapsed": false
   },
   "outputs": [
    {
     "name": "stdout",
     "output_type": "stream",
     "text": [
      "('TPR =', 0.65739385065885803, 'TNR =', 0.3847395915782808)\n",
      "(1.0, 0.9881747665031206)\n",
      "('TPR =', 0.0, 'TNR =', 1.0)\n",
      "(1.0, 0.9322874782335318)\n",
      "('TPR =', 0.0, 'TNR =', 1.0)\n",
      "(1.0, 0.9322874782335318)\n",
      "('TPR =', 0.0, 'TNR =', 1.0)\n",
      "(1.0, 0.9322874782335318)\n",
      "('TPR =', 0.0, 'TNR =', 1.0)\n",
      "(1.0, 0.9322874782335318)\n",
      "('TPR =', 0.0, 'TNR =', 1.0)\n",
      "(1.0, 0.9322874782335318)\n",
      "('TPR =', 0.0, 'TNR =', 1.0)\n",
      "(1.0, 0.9322874782335318)\n",
      "('TPR =', 0.0, 'TNR =', 1.0)\n",
      "(1.0, 0.9322874782335318)\n",
      "('TPR =', 0.0, 'TNR =', 1.0)\n",
      "(1.0, 0.9322874782335318)\n",
      "('TPR =', 0.0, 'TNR =', 1.0)\n",
      "(1.0, 0.9322874782335318)\n"
     ]
    }
   ],
   "source": [
    "def modifyx(x,y,a,b,n,n_pos,n_neg):\n",
    "    scale_pos = float(2*n_pos)/(a*n)\n",
    "    scale_neg = float(2*n_neg)/(b*n)\n",
    "    for i in range(len(y)):\n",
    "        if y[i]==1:\n",
    "            x[i].update((key,val*scale_pos) for key,val in x[i].items())\n",
    "        else:\n",
    "            x[i].update((key,val*scale_neg) for key,val in x[i].items())\n",
    "    return x\n",
    "# init section\n",
    "a,b = 1,1\n",
    "y_lst,x_lst = read_problem('./data/ijcnn1.tr') # x as numpy list\n",
    "n_dim = len(x_lst[0])\n",
    "w = np.random.uniform(low=-1,high=1,size=(n_dim,))\n",
    "y_orig,x_orig = svm_read_problem('./data/ijcnn1.tr') # x in liblinear compatible dictionary format\n",
    "n = len(y)\n",
    "n_pos = len([i for i in range(n) if y[i]==1])\n",
    "n_neg = n-n_pos\n",
    "c = 5.0\n",
    "# Iterative section: Gradient Ascent & Liblinear\n",
    "for i in range(10):\n",
    "    a,b = gradient_ascent(x_lst,y_lst,w,a,b) #Gradient ascent\n",
    "    c1 = float(a)/n_pos\n",
    "    c2 = float(b)/n_neg\n",
    "    param = parameter('-s 3 -w1 {} -w-1 {} -c {}'.format(c1,c2,c))\n",
    "    x = modifyx(x_orig,y_orig,a,b,n,n_pos,n_neg)\n",
    "    prob = problem(y_orig,x)\n",
    "    model = train(prob,param)\n",
    "    # Get model parameters\n",
    "    w = model.get_decfun()[0]\n",
    "    print(a,b)\n",
    "#     print w"
   ]
  },
  {
   "cell_type": "code",
   "execution_count": 53,
   "metadata": {
    "collapsed": false
   },
   "outputs": [
    {
     "name": "stdout",
     "output_type": "stream",
     "text": [
      "{6: 10.0, 11: -7.3185400000000005, 12: 1.73431, 13: 0.0, 14: 0.0027, 15: 0.11684, 16: -0.11052, 17: 0.24452000000000002, 18: 0.08337, 19: 0.013240000000000002, 20: 0.25544, 21: -0.40728, 22: -0.0081}\n",
      "{6: 100.0, 11: -73.1854, 12: 17.3431, 13: 0.0, 14: 0.027000000000000003, 15: 1.1684, 16: -1.1052, 17: 2.4452000000000003, 18: 0.8337, 19: 0.13240000000000002, 20: 2.5544000000000002, 21: -4.0728, 22: -0.08099999999999999}\n"
     ]
    }
   ],
   "source": [
    "# y_orig,x_orig = svm_read_problem('./data/ijcnn1.tr')\n",
    "t = x_orig[0]\n",
    "print t\n",
    "t.update((x,y*10) for x,y in t.items())\n",
    "print t"
   ]
  },
  {
   "cell_type": "code",
   "execution_count": 8,
   "metadata": {
    "collapsed": false
   },
   "outputs": [
    {
     "data": {
      "text/plain": [
       "([0.020088400051177527,\n",
       "  0.02078000240895638,\n",
       "  0.017383681282139466,\n",
       "  0.01922073585258815,\n",
       "  0.01871566162727098,\n",
       "  0.018957471615453476,\n",
       "  0.020564558992360284,\n",
       "  0.019204518613350992,\n",
       "  0.018384635918062716,\n",
       "  0.019919263327922897,\n",
       "  0.0004097609048048318,\n",
       "  0.04549050018405845,\n",
       "  -0.00019739460456936307,\n",
       "  -0.0003677184740392728,\n",
       "  0.0003408332898644388,\n",
       "  0.0007132671938060524,\n",
       "  -0.014374657235245919,\n",
       "  -0.01787257671927265,\n",
       "  -0.011937403539873225,\n",
       "  0.006379924826240279,\n",
       "  0.0016604175632452852,\n",
       "  0.0034085857729773757],\n",
       " 0.0)"
      ]
     },
     "execution_count": 8,
     "metadata": {},
     "output_type": "execute_result"
    }
   ],
   "source": [
    "y,x = svm_read_problem('./data/ijcnn1.tr')\n",
    "prob = problem(y,x)\n",
    "# Compute parameters\n",
    "n = len(y)\n",
    "n_pos = len([i for i in range(n) if y[i]==1])\n",
    "n_neg = n-n_pos\n",
    "c1 = a/n_pos\n",
    "c2 = b/n_neg\n",
    "param = parameter('-w-1 {} -c {}'.format(c2,c1))\n",
    "model = train(prob,param)\n",
    "# Get model parameters\n",
    "model.get_decfun()"
   ]
  },
  {
   "cell_type": "code",
   "execution_count": 10,
   "metadata": {
    "collapsed": false
   },
   "outputs": [],
   "source": [
    "# def gradient_ascent_batch(x,y,w,alpha=0.1,ep=0.0001,maxiter=100):\n",
    "#     n = x.shape[0]\n",
    "#     n_pos = len([i for i in range(n) if y[i]==1])\n",
    "#     n_neg = n-n_pos\n",
    "#     a,b = 0.1,0.1\n",
    "#     ind_pos = [i for i in range(n) if y[i]>0]\n",
    "#     ind_neg = [i for i in range(n) if y[i]<0]\n",
    "#     x_pos = x[ind_pos]\n",
    "#     x_neg = x[ind_neg]\n",
    "#     tpr,tnr = get_tp_tn(x,y,w)\n",
    "#     tpr /= n_pos\n",
    "#     tnr /= n_neg\n",
    "#     print 'TPR =',tpr,'TNR =',tnr\n",
    "#     for i in range(maxiter):\n",
    "#         # Positive instances\n",
    "#         tmp = 1 - (2*n_pos)/(a*n)*x_pos.dot(w)\n",
    "#         j = np.where(tmp>0)\n",
    "#         tmp = np.zeros_like(tmp)\n",
    "#         tmp[j]=1/n_pos\n",
    "#         a += alpha * (sum(tmp)-1+tpr)\n",
    "#         # Negative instances\n",
    "#         tmp = 1 + (2*n_neg)/(b*n)*x_neg.dot(w)\n",
    "#         j = np.where(tmp>0)\n",
    "#         tmp = np.zeros_like(tmp)\n",
    "#         tmp[j]=1/n_neg\n",
    "#         b += alpha * (sum(tmp)-1+tnr)\n",
    "#         print a,b"
   ]
  }
 ],
 "metadata": {
  "anaconda-cloud": {},
  "kernelspec": {
   "display_name": "Python [conda root]",
   "language": "python",
   "name": "conda-root-py"
  },
  "language_info": {
   "codemirror_mode": {
    "name": "ipython",
    "version": 2
   },
   "file_extension": ".py",
   "mimetype": "text/x-python",
   "name": "python",
   "nbconvert_exporter": "python",
   "pygments_lexer": "ipython2",
   "version": "2.7.12"
  }
 },
 "nbformat": 4,
 "nbformat_minor": 1
}
