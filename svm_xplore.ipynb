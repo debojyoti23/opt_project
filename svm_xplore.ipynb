{
 "cells": [
  {
   "cell_type": "code",
   "execution_count": 4,
   "metadata": {
    "collapsed": false
   },
   "outputs": [],
   "source": [
    "# Install liblinear: sudo apt-get install python-liblinear\n",
    "# from liblinearutil import *\n",
    "import numpy as np"
   ]
  },
  {
   "cell_type": "code",
   "execution_count": 6,
   "metadata": {
    "collapsed": true
   },
   "outputs": [],
   "source": [
    "def read_problem(file_name):\n",
    "    y = []\n",
    "    x = []\n",
    "    feature_len = 22\n",
    "    for line in open(file_name):\n",
    "        tmp = line.split(' ',1)\n",
    "        y = y + [int(tmp[0])]\n",
    "        vec = np.zeros(feature_len)\n",
    "        for each in tmp[1].split():\n",
    "            index,val = each.split(':')\n",
    "            vec[int(index)-1] = float(val)\n",
    "        x.append(vec)\n",
    "    y = np.array(y)\n",
    "    x = np.array(x)\n",
    "    return y,x"
   ]
  },
  {
   "cell_type": "markdown",
   "metadata": {},
   "source": [
    "# Gradient ascent step for dual variables"
   ]
  },
  {
   "cell_type": "code",
   "execution_count": 85,
   "metadata": {
    "collapsed": false
   },
   "outputs": [],
   "source": [
    "def get_tp_tn(x,y,w):\n",
    "    h = x.dot(w)\n",
    "    ind = np.where(h>0)\n",
    "    y1 = -1*np.ones_like(y)\n",
    "    y1[ind] = 1\n",
    "    tp = sum(np.multiply(1+y,1+y1)/4)\n",
    "    tn = sum(np.multiply(1-y,1-y1)/4)\n",
    "    return tp,tn\n",
    "\n",
    "def get_projection(alpha,beta):\n",
    "    if alpha>0 and beta>0 and alpha*beta>=1.0/4:\n",
    "        return alpha,beta\n",
    "    a = 16\n",
    "    b = -16*beta\n",
    "    c = 0\n",
    "    d = 4*alpha\n",
    "    e = -1\n",
    "    D0 = c*c - 3*b*d + 12*a*e\n",
    "    D1 = 2*c*c*c-9*b*c*d+27*b*b*e+27*a*d*d-72*a*c*e\n",
    "    p = (8*a*c-3*b*b)/(8*a*a)\n",
    "    q = (b*b*b-4*a*b*c+8*a*a*d)\n",
    "    Q = np.power((D1+np.sqrt(D1*D1-4*D0*D0*D0))/2.0,1/3)\n",
    "    s = 0.5*np.sqrt(-2/3*p+1/(3*a)*(Q+D0/Q))\n",
    "    y1 = -float(b)/(4*a) - s + 0.5*np.sqrt(-4*s*s-2*p+q/s)\n",
    "    y2 = -float(b)/(4*a) - s - 0.5*np.sqrt(-4*s*s-2*p+q/s)\n",
    "    y3 = -float(b)/(4*a) + s + 0.5*np.sqrt(-4*s*s-2*p+q/s)\n",
    "    y4 = -float(b)/(4*a) + s - 0.5*np.sqrt(-4*s*s-2*p+q/s)\n",
    "    x1 = 1/(4*y1)\n",
    "    if x1>=1/4 and y1>=1/4:\n",
    "        return x1,y1\n",
    "    x2 = 1/(4*y2)\n",
    "    if x2>=1/4 and y2>=1/4:\n",
    "        return x2,y2\n",
    "    x3 = 1/(4*y3)\n",
    "    if x3>=1/4 and y3>=1/4:\n",
    "        return x3,y3\n",
    "    x4 = 1/(4*y4)\n",
    "    if x4>=1/4 and y4>=1/4:\n",
    "        return x4,y4\n",
    "    return 1,1\n",
    "\n",
    "def gradient_ascent(x,y,w,a,b,alpha=0.1,maxiter=50):\n",
    "    n = x.shape[0]\n",
    "    n_pos = len([i for i in range(n) if y[i]==1])\n",
    "    n_neg = n-n_pos\n",
    "    ind_pos = [i for i in range(n) if y[i]>0]\n",
    "    ind_neg = [i for i in range(n) if y[i]<0]\n",
    "    x_pos = x[ind_pos]\n",
    "    x_neg = x[ind_neg]\n",
    "    tpr,tnr = get_tp_tn(x,y,w)\n",
    "    tpr /= float(n_pos)\n",
    "    tnr /= float(n_neg)\n",
    "    epsilon = 0.0001\n",
    "    print('TPR =',tpr,'TNR =',tnr)\n",
    "    for it in range(maxiter):\n",
    "#         alpha = 1.0/(it+1)\n",
    "        # for positives\n",
    "        tmp = 1 - (2*n_pos)/(a*n)*x_pos.dot(w)\n",
    "        j = np.where(tmp>0)[0]\n",
    "        tmp = np.zeros_like(tmp)\n",
    "        tmp[j]=1.0/n_pos\n",
    "        ga = sum(tmp)\n",
    "        a += alpha*ga\n",
    "#         print('Missed pos:',len(j))\n",
    "        # for negatives\n",
    "        tmp = 1 + (2*n_neg)/(b*n)*x_neg.dot(w)\n",
    "        j = np.where(tmp>0)[0]\n",
    "        tmp = np.zeros_like(tmp)\n",
    "        tmp[j]=1.0/n_neg\n",
    "        gb = sum(tmp)\n",
    "        b += alpha*gb\n",
    "        print(a,b)\n",
    "#         print('Missed neg:',len(j))\n",
    "        # Projection to a,b \\in R+ \\intersect ab>1/4\n",
    "        a,b = get_projection(a,b)\n",
    "#         print('ga =',ga,'gb =',gb)\n",
    "        if ga<epsilon and gb<epsilon:\n",
    "            break\n",
    "    return a,b"
   ]
  },
  {
   "cell_type": "markdown",
   "metadata": {},
   "source": [
    "## Liblinear for primal variable w"
   ]
  },
  {
   "cell_type": "code",
   "execution_count": 7,
   "metadata": {
    "collapsed": false
   },
   "outputs": [],
   "source": [
    "# customized liblinear\n",
    "import sys\n",
    "sys.path.insert(0, \"/home/debojyoti/opt/liblinear-2.1\")\n",
    "from ppython import liblinear\n",
    "from ppython.liblinear import *\n",
    "from ppython.liblinearutil import *"
   ]
  },
  {
   "cell_type": "code",
   "execution_count": 1,
   "metadata": {
    "collapsed": false
   },
   "outputs": [],
   "source": [
    "def modifyx(x,y,a,b,n,n_pos,n_neg):\n",
    "    scale_pos = float(2*n_pos)/(a*n)\n",
    "    scale_neg = float(2*n_neg)/(b*n)\n",
    "    for i in range(len(y)):\n",
    "        if y[i]==1:\n",
    "            x[i].update((key,val*scale_pos) for key,val in x[i].items())\n",
    "        else:\n",
    "            x[i].update((key,val*scale_neg) for key,val in x[i].items())\n",
    "    return x\n",
    "# init section\n",
    "a,b = 0.5,0.5\n",
    "y_lst,x_lst = read_problem('./data/ijcnn1.tr') # x as numpy list\n",
    "n_dim = len(x_lst[0])\n",
    "w = np.random.uniform(low=-1,high=1,size=(n_dim,))\n",
    "# w = np.zeros(n_dim)\n",
    "y_orig,x_orig = svm_read_problem('./data/ijcnn1.tr') # x in liblinear compatible dictionary format\n",
    "n = len(y_lst)\n",
    "n_pos = len([i for i in range(n) if y_lst[i]==1])\n",
    "n_neg = n-n_pos\n",
    "c = 5.0\n",
    "# Iterative section: Gradient Ascent & Liblinear\n",
    "for i in range(10):\n",
    "    a,b = gradient_ascent(x_lst,y_lst,w,a,b) #Gradient ascent\n",
    "    c1 = float(a)/n_pos\n",
    "    c2 = float(b)/n_neg\n",
    "    param = parameter('-s 3 -w1 {} -w-1 {} -c {}'.format(c1,c2,c))\n",
    "    x = modifyx(x_orig,y_orig,a,b,n,n_pos,n_neg)\n",
    "    prob = problem(y_orig,x)\n",
    "    model = train(prob,param)\n",
    "    # Get model parameters\n",
    "    w = model.get_decfun()[0]\n",
    "    print('a =',a,'b =',b)"
   ]
  }
 ],
 "metadata": {
  "anaconda-cloud": {},
  "kernelspec": {
   "display_name": "Python [conda root]",
   "language": "python",
   "name": "conda-root-py"
  },
  "language_info": {
   "codemirror_mode": {
    "name": "ipython",
    "version": 3
   },
   "file_extension": ".py",
   "mimetype": "text/x-python",
   "name": "python",
   "nbconvert_exporter": "python",
   "pygments_lexer": "ipython3",
   "version": "3.5.2"
  }
 },
 "nbformat": 4,
 "nbformat_minor": 1
}
